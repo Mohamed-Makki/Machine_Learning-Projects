{
 "cells": [
  {
   "cell_type": "markdown",
   "id": "3421b583",
   "metadata": {
    "papermill": {
     "duration": 0.005455,
     "end_time": "2025-08-25T11:47:17.392675",
     "exception": false,
     "start_time": "2025-08-25T11:47:17.387220",
     "status": "completed"
    },
    "tags": []
   },
   "source": [
    "## INTRODUCTION\n",
    "* This project implements a machine learning solution for predicting diabetesusing the PIMA Indian Diabetes Dataset.\n",
    "* The goal is to classify patients as \n",
    "diabetic or non-diabetic based on medical diagnostic measurements using Support Vector Machine (SVM) algorithm.\n",
    "\n",
    "### DATASET OVERVIEW:\n",
    "- 768 samples with 8 medical features\n",
    "- Features include glucose level, BMI, age, insulin, etc.\n",
    "- Binary classification: 0 (Non-Diabetic) vs 1 (Diabetic)\n",
    "- Real-world application: Early diabetes detection systems\n",
    "\n",
    "### METHODOLOGY:\n",
    "1. Data loading and exploratory analysis\n",
    "2. Data standardization for SVM optimization\n",
    "3. Train-test split (80%-20%)\n",
    "4. SVM model training with linear kernel\n",
    "5. Performance evaluation and testing\n",
    "6. Predictive system implementation"
   ]
  },
  {
   "cell_type": "markdown",
   "id": "c289abb8",
   "metadata": {
    "papermill": {
     "duration": 0.005354,
     "end_time": "2025-08-25T11:47:17.402699",
     "exception": false,
     "start_time": "2025-08-25T11:47:17.397345",
     "status": "completed"
    },
    "tags": []
   },
   "source": [
    "## Import required libraries"
   ]
  },
  {
   "cell_type": "code",
   "execution_count": 1,
   "id": "43170ee6",
   "metadata": {
    "execution": {
     "iopub.execute_input": "2025-08-25T11:47:17.413579Z",
     "iopub.status.busy": "2025-08-25T11:47:17.413170Z",
     "iopub.status.idle": "2025-08-25T11:47:21.813984Z",
     "shell.execute_reply": "2025-08-25T11:47:21.812888Z"
    },
    "papermill": {
     "duration": 4.408554,
     "end_time": "2025-08-25T11:47:21.815974",
     "exception": false,
     "start_time": "2025-08-25T11:47:17.407420",
     "status": "completed"
    },
    "tags": []
   },
   "outputs": [],
   "source": [
    "import numpy as np\n",
    "import pandas as pd\n",
    "from sklearn.preprocessing import StandardScaler\n",
    "from sklearn.model_selection import train_test_split\n",
    "from sklearn import svm\n",
    "from sklearn.metrics import accuracy_score"
   ]
  },
  {
   "cell_type": "markdown",
   "id": "a6a61f34",
   "metadata": {
    "papermill": {
     "duration": 0.003981,
     "end_time": "2025-08-25T11:47:21.824532",
     "exception": false,
     "start_time": "2025-08-25T11:47:21.820551",
     "status": "completed"
    },
    "tags": []
   },
   "source": [
    "## Load and explore the dataset"
   ]
  },
  {
   "cell_type": "code",
   "execution_count": 2,
   "id": "e2bb8d29",
   "metadata": {
    "execution": {
     "iopub.execute_input": "2025-08-25T11:47:21.835407Z",
     "iopub.status.busy": "2025-08-25T11:47:21.834236Z",
     "iopub.status.idle": "2025-08-25T11:47:21.866731Z",
     "shell.execute_reply": "2025-08-25T11:47:21.865890Z"
    },
    "papermill": {
     "duration": 0.040235,
     "end_time": "2025-08-25T11:47:21.868977",
     "exception": false,
     "start_time": "2025-08-25T11:47:21.828742",
     "status": "completed"
    },
    "tags": []
   },
   "outputs": [],
   "source": [
    "diabetes_dataset = pd.read_csv(r\"C:\\Users\\Mohamed Makki\\Desktop\\Projects\\Machine_Learning-Projects\\Project_6\\Dataset\\diabetes.csv\")"
   ]
  },
  {
   "cell_type": "code",
   "execution_count": 3,
   "id": "90897e74",
   "metadata": {
    "execution": {
     "iopub.execute_input": "2025-08-25T11:47:21.879374Z",
     "iopub.status.busy": "2025-08-25T11:47:21.879021Z",
     "iopub.status.idle": "2025-08-25T11:47:21.885238Z",
     "shell.execute_reply": "2025-08-25T11:47:21.883857Z"
    },
    "papermill": {
     "duration": 0.013303,
     "end_time": "2025-08-25T11:47:21.886859",
     "exception": false,
     "start_time": "2025-08-25T11:47:21.873556",
     "status": "completed"
    },
    "tags": []
   },
   "outputs": [
    {
     "name": "stdout",
     "output_type": "stream",
     "text": [
      "Dataset shape: (768, 9)\n",
      "Features: ['Pregnancies', 'Glucose', 'BloodPressure', 'SkinThickness', 'Insulin', 'BMI', 'DiabetesPedigreeFunction', 'Age']\n",
      "Target: Outcome\n"
     ]
    }
   ],
   "source": [
    "print(f\"Dataset shape: {diabetes_dataset.shape}\")\n",
    "print(f\"Features: {list(diabetes_dataset.columns[:-1])}\")\n",
    "print(f\"Target: {diabetes_dataset.columns[-1]}\")"
   ]
  },
  {
   "cell_type": "markdown",
   "id": "7ed3f364",
   "metadata": {
    "papermill": {
     "duration": 0.004913,
     "end_time": "2025-08-25T11:47:21.896553",
     "exception": false,
     "start_time": "2025-08-25T11:47:21.891640",
     "status": "completed"
    },
    "tags": []
   },
   "source": [
    "## Display class distribution"
   ]
  },
  {
   "cell_type": "code",
   "execution_count": 4,
   "id": "9149e41c",
   "metadata": {
    "execution": {
     "iopub.execute_input": "2025-08-25T11:47:21.907970Z",
     "iopub.status.busy": "2025-08-25T11:47:21.907291Z",
     "iopub.status.idle": "2025-08-25T11:47:21.925883Z",
     "shell.execute_reply": "2025-08-25T11:47:21.924893Z"
    },
    "papermill": {
     "duration": 0.026712,
     "end_time": "2025-08-25T11:47:21.927694",
     "exception": false,
     "start_time": "2025-08-25T11:47:21.900982",
     "status": "completed"
    },
    "tags": []
   },
   "outputs": [
    {
     "name": "stdout",
     "output_type": "stream",
     "text": [
      "\n",
      "Class distribution:\n",
      "Non-Diabetic (0): 500 samples (65.1%)\n",
      "Diabetic (1): 268 samples (34.9%)\n"
     ]
    }
   ],
   "source": [
    "outcome_counts = diabetes_dataset['Outcome'].value_counts()\n",
    "print(f\"\\nClass distribution:\")\n",
    "print(f\"Non-Diabetic (0): {outcome_counts[0]} samples ({outcome_counts[0]/len(diabetes_dataset)*100:.1f}%)\")\n",
    "print(f\"Diabetic (1): {outcome_counts[1]} samples ({outcome_counts[1]/len(diabetes_dataset)*100:.1f}%)\")"
   ]
  },
  {
   "cell_type": "markdown",
   "id": "c8421ec2",
   "metadata": {
    "papermill": {
     "duration": 0.004565,
     "end_time": "2025-08-25T11:47:21.937663",
     "exception": false,
     "start_time": "2025-08-25T11:47:21.933098",
     "status": "completed"
    },
    "tags": []
   },
   "source": [
    "## Show statistical summary by class"
   ]
  },
  {
   "cell_type": "code",
   "execution_count": 5,
   "id": "47366134",
   "metadata": {
    "execution": {
     "iopub.execute_input": "2025-08-25T11:47:21.948336Z",
     "iopub.status.busy": "2025-08-25T11:47:21.948008Z",
     "iopub.status.idle": "2025-08-25T11:47:21.964407Z",
     "shell.execute_reply": "2025-08-25T11:47:21.962898Z"
    },
    "papermill": {
     "duration": 0.024101,
     "end_time": "2025-08-25T11:47:21.966424",
     "exception": false,
     "start_time": "2025-08-25T11:47:21.942323",
     "status": "completed"
    },
    "tags": []
   },
   "outputs": [
    {
     "name": "stdout",
     "output_type": "stream",
     "text": [
      "\n",
      "Average values by class:\n",
      "Non-Diabetic average glucose: 110.0\n",
      "Diabetic average glucose: 141.3\n"
     ]
    }
   ],
   "source": [
    "print(f\"\\nAverage values by class:\")\n",
    "class_means = diabetes_dataset.groupby('Outcome').mean()\n",
    "print(f\"Non-Diabetic average glucose: {class_means.loc[0, 'Glucose']:.1f}\")\n",
    "print(f\"Diabetic average glucose: {class_means.loc[1, 'Glucose']:.1f}\")"
   ]
  },
  {
   "cell_type": "markdown",
   "id": "a89c1f45",
   "metadata": {
    "papermill": {
     "duration": 0.004531,
     "end_time": "2025-08-25T11:47:21.975984",
     "exception": false,
     "start_time": "2025-08-25T11:47:21.971453",
     "status": "completed"
    },
    "tags": []
   },
   "source": [
    "## Data preprocessing"
   ]
  },
  {
   "cell_type": "code",
   "execution_count": 6,
   "id": "f499d822",
   "metadata": {
    "execution": {
     "iopub.execute_input": "2025-08-25T11:47:21.987606Z",
     "iopub.status.busy": "2025-08-25T11:47:21.987210Z",
     "iopub.status.idle": "2025-08-25T11:47:21.994646Z",
     "shell.execute_reply": "2025-08-25T11:47:21.993854Z"
    },
    "papermill": {
     "duration": 0.015395,
     "end_time": "2025-08-25T11:47:21.996435",
     "exception": false,
     "start_time": "2025-08-25T11:47:21.981040",
     "status": "completed"
    },
    "tags": []
   },
   "outputs": [],
   "source": [
    "X = diabetes_dataset.drop(columns='Outcome')  # Features (8 medical measurements)\n",
    "y = diabetes_dataset['Outcome']               # Target (0: Non-Diabetic, 1: Diabetic)"
   ]
  },
  {
   "cell_type": "markdown",
   "id": "39379f79",
   "metadata": {
    "papermill": {
     "duration": 0.004577,
     "end_time": "2025-08-25T11:47:22.005945",
     "exception": false,
     "start_time": "2025-08-25T11:47:22.001368",
     "status": "completed"
    },
    "tags": []
   },
   "source": [
    "## Data standardization - crucial for SVM performance"
   ]
  },
  {
   "cell_type": "code",
   "execution_count": 7,
   "id": "76743cae",
   "metadata": {
    "execution": {
     "iopub.execute_input": "2025-08-25T11:47:22.016993Z",
     "iopub.status.busy": "2025-08-25T11:47:22.016638Z",
     "iopub.status.idle": "2025-08-25T11:47:22.026690Z",
     "shell.execute_reply": "2025-08-25T11:47:22.025811Z"
    },
    "papermill": {
     "duration": 0.017549,
     "end_time": "2025-08-25T11:47:22.028406",
     "exception": false,
     "start_time": "2025-08-25T11:47:22.010857",
     "status": "completed"
    },
    "tags": []
   },
   "outputs": [],
   "source": [
    "scaler = StandardScaler()\n",
    "X_standardized = scaler.fit_transform(X)"
   ]
  },
  {
   "cell_type": "code",
   "execution_count": 8,
   "id": "cb0d3b21",
   "metadata": {
    "execution": {
     "iopub.execute_input": "2025-08-25T11:47:22.039676Z",
     "iopub.status.busy": "2025-08-25T11:47:22.038889Z",
     "iopub.status.idle": "2025-08-25T11:47:22.044900Z",
     "shell.execute_reply": "2025-08-25T11:47:22.043884Z"
    },
    "papermill": {
     "duration": 0.013154,
     "end_time": "2025-08-25T11:47:22.046346",
     "exception": false,
     "start_time": "2025-08-25T11:47:22.033192",
     "status": "completed"
    },
    "tags": []
   },
   "outputs": [
    {
     "name": "stdout",
     "output_type": "stream",
     "text": [
      "\n",
      "Data preprocessed and standardized for SVM\n",
      "Feature matrix shape: (768, 8)\n",
      "Target vector shape: (768,)\n"
     ]
    }
   ],
   "source": [
    "print(f\"\\nData preprocessed and standardized for SVM\")\n",
    "print(f\"Feature matrix shape: {X_standardized.shape}\")\n",
    "print(f\"Target vector shape: {y.shape}\")"
   ]
  },
  {
   "cell_type": "markdown",
   "id": "47f009df",
   "metadata": {
    "papermill": {
     "duration": 0.004434,
     "end_time": "2025-08-25T11:47:22.055637",
     "exception": false,
     "start_time": "2025-08-25T11:47:22.051203",
     "status": "completed"
    },
    "tags": []
   },
   "source": [
    "## Split data into training and testing sets"
   ]
  },
  {
   "cell_type": "code",
   "execution_count": 9,
   "id": "a00b1a69",
   "metadata": {
    "execution": {
     "iopub.execute_input": "2025-08-25T11:47:22.066449Z",
     "iopub.status.busy": "2025-08-25T11:47:22.065705Z",
     "iopub.status.idle": "2025-08-25T11:47:22.074692Z",
     "shell.execute_reply": "2025-08-25T11:47:22.073822Z"
    },
    "papermill": {
     "duration": 0.01618,
     "end_time": "2025-08-25T11:47:22.076418",
     "exception": false,
     "start_time": "2025-08-25T11:47:22.060238",
     "status": "completed"
    },
    "tags": []
   },
   "outputs": [],
   "source": [
    "X_train, X_test, y_train, y_test = train_test_split(\n",
    "    X_standardized, y, test_size=0.2, stratify=y, random_state=42\n",
    ")"
   ]
  },
  {
   "cell_type": "code",
   "execution_count": 10,
   "id": "11b86121",
   "metadata": {
    "execution": {
     "iopub.execute_input": "2025-08-25T11:47:22.087463Z",
     "iopub.status.busy": "2025-08-25T11:47:22.087071Z",
     "iopub.status.idle": "2025-08-25T11:47:22.092581Z",
     "shell.execute_reply": "2025-08-25T11:47:22.091790Z"
    },
    "papermill": {
     "duration": 0.012662,
     "end_time": "2025-08-25T11:47:22.094036",
     "exception": false,
     "start_time": "2025-08-25T11:47:22.081374",
     "status": "completed"
    },
    "tags": []
   },
   "outputs": [
    {
     "name": "stdout",
     "output_type": "stream",
     "text": [
      "\n",
      "Data split completed:\n",
      "Training samples: 614\n",
      "Testing samples: 154\n"
     ]
    }
   ],
   "source": [
    "print(f\"\\nData split completed:\")\n",
    "print(f\"Training samples: {X_train.shape[0]}\")\n",
    "print(f\"Testing samples: {X_test.shape[0]}\")"
   ]
  },
  {
   "cell_type": "markdown",
   "id": "bd3c9aaa",
   "metadata": {
    "papermill": {
     "duration": 0.00446,
     "end_time": "2025-08-25T11:47:22.103406",
     "exception": false,
     "start_time": "2025-08-25T11:47:22.098946",
     "status": "completed"
    },
    "tags": []
   },
   "source": [
    "## Train Support Vector Machine model"
   ]
  },
  {
   "cell_type": "code",
   "execution_count": 11,
   "id": "775385f3",
   "metadata": {
    "execution": {
     "iopub.execute_input": "2025-08-25T11:47:22.114298Z",
     "iopub.status.busy": "2025-08-25T11:47:22.113972Z",
     "iopub.status.idle": "2025-08-25T11:47:22.137269Z",
     "shell.execute_reply": "2025-08-25T11:47:22.135898Z"
    },
    "papermill": {
     "duration": 0.030801,
     "end_time": "2025-08-25T11:47:22.139023",
     "exception": false,
     "start_time": "2025-08-25T11:47:22.108222",
     "status": "completed"
    },
    "tags": []
   },
   "outputs": [
    {
     "name": "stdout",
     "output_type": "stream",
     "text": [
      "\n",
      "SVM model trained with linear kernel\n"
     ]
    }
   ],
   "source": [
    "classifier = svm.SVC(kernel='linear', random_state=42)\n",
    "classifier.fit(X_train, y_train)\n",
    "\n",
    "print(f\"\\nSVM model trained with linear kernel\")"
   ]
  },
  {
   "cell_type": "markdown",
   "id": "03de450f",
   "metadata": {
    "papermill": {
     "duration": 0.005348,
     "end_time": "2025-08-25T11:47:22.150314",
     "exception": false,
     "start_time": "2025-08-25T11:47:22.144966",
     "status": "completed"
    },
    "tags": []
   },
   "source": [
    "## Evaluate model performance"
   ]
  },
  {
   "cell_type": "code",
   "execution_count": 12,
   "id": "48668f74",
   "metadata": {
    "execution": {
     "iopub.execute_input": "2025-08-25T11:47:22.161822Z",
     "iopub.status.busy": "2025-08-25T11:47:22.161489Z",
     "iopub.status.idle": "2025-08-25T11:47:22.172989Z",
     "shell.execute_reply": "2025-08-25T11:47:22.171927Z"
    },
    "papermill": {
     "duration": 0.019356,
     "end_time": "2025-08-25T11:47:22.174936",
     "exception": false,
     "start_time": "2025-08-25T11:47:22.155580",
     "status": "completed"
    },
    "tags": []
   },
   "outputs": [],
   "source": [
    "train_predictions = classifier.predict(X_train)\n",
    "test_predictions = classifier.predict(X_test)"
   ]
  },
  {
   "cell_type": "code",
   "execution_count": 13,
   "id": "1cfc551c",
   "metadata": {
    "execution": {
     "iopub.execute_input": "2025-08-25T11:47:22.186693Z",
     "iopub.status.busy": "2025-08-25T11:47:22.186362Z",
     "iopub.status.idle": "2025-08-25T11:47:22.194964Z",
     "shell.execute_reply": "2025-08-25T11:47:22.193827Z"
    },
    "papermill": {
     "duration": 0.016102,
     "end_time": "2025-08-25T11:47:22.196562",
     "exception": false,
     "start_time": "2025-08-25T11:47:22.180460",
     "status": "completed"
    },
    "tags": []
   },
   "outputs": [],
   "source": [
    "train_accuracy = accuracy_score(y_train, train_predictions)\n",
    "test_accuracy = accuracy_score(y_test, test_predictions)"
   ]
  },
  {
   "cell_type": "code",
   "execution_count": 14,
   "id": "cb29b026",
   "metadata": {
    "execution": {
     "iopub.execute_input": "2025-08-25T11:47:22.208324Z",
     "iopub.status.busy": "2025-08-25T11:47:22.208015Z",
     "iopub.status.idle": "2025-08-25T11:47:22.213759Z",
     "shell.execute_reply": "2025-08-25T11:47:22.212814Z"
    },
    "papermill": {
     "duration": 0.013068,
     "end_time": "2025-08-25T11:47:22.215177",
     "exception": false,
     "start_time": "2025-08-25T11:47:22.202109",
     "status": "completed"
    },
    "tags": []
   },
   "outputs": [
    {
     "name": "stdout",
     "output_type": "stream",
     "text": [
      "\n",
      "Model Performance:\n",
      "Training Accuracy: 0.7915 (79.15%)\n",
      "Testing Accuracy: 0.7208 (72.08%)\n"
     ]
    }
   ],
   "source": [
    "print(f\"\\nModel Performance:\")\n",
    "print(f\"Training Accuracy: {train_accuracy:.4f} ({train_accuracy*100:.2f}%)\")\n",
    "print(f\"Testing Accuracy: {test_accuracy:.4f} ({test_accuracy*100:.2f}%)\")"
   ]
  },
  {
   "cell_type": "code",
   "execution_count": 15,
   "id": "84b61d2e",
   "metadata": {
    "execution": {
     "iopub.execute_input": "2025-08-25T11:47:22.227298Z",
     "iopub.status.busy": "2025-08-25T11:47:22.226484Z",
     "iopub.status.idle": "2025-08-25T11:47:22.232905Z",
     "shell.execute_reply": "2025-08-25T11:47:22.231836Z"
    },
    "papermill": {
     "duration": 0.013832,
     "end_time": "2025-08-25T11:47:22.234276",
     "exception": false,
     "start_time": "2025-08-25T11:47:22.220444",
     "status": "completed"
    },
    "tags": []
   },
   "outputs": [
    {
     "name": "stdout",
     "output_type": "stream",
     "text": [
      "Model Generalization: Fair\n"
     ]
    }
   ],
   "source": [
    "# Check model generalization\n",
    "generalization = \"Good\" if abs(train_accuracy - test_accuracy) < 0.05 else \"Fair\"\n",
    "print(f\"Model Generalization: {generalization}\")"
   ]
  },
  {
   "cell_type": "markdown",
   "id": "164090c5",
   "metadata": {
    "papermill": {
     "duration": 0.005586,
     "end_time": "2025-08-25T11:47:22.245239",
     "exception": false,
     "start_time": "2025-08-25T11:47:22.239653",
     "status": "completed"
    },
    "tags": []
   },
   "source": [
    "## Prediction system for new patient data"
   ]
  },
  {
   "cell_type": "code",
   "execution_count": 16,
   "id": "3060ca39",
   "metadata": {
    "execution": {
     "iopub.execute_input": "2025-08-25T11:47:22.257613Z",
     "iopub.status.busy": "2025-08-25T11:47:22.256689Z",
     "iopub.status.idle": "2025-08-25T11:47:22.263790Z",
     "shell.execute_reply": "2025-08-25T11:47:22.262808Z"
    },
    "papermill": {
     "duration": 0.014897,
     "end_time": "2025-08-25T11:47:22.265486",
     "exception": false,
     "start_time": "2025-08-25T11:47:22.250589",
     "status": "completed"
    },
    "tags": []
   },
   "outputs": [],
   "source": [
    "def predict_diabetes_risk(model, scaler, patient_data):\n",
    "    \"\"\"\n",
    "    Predict diabetes risk for a new patient\n",
    "    \n",
    "    Parameters:\n",
    "    model: Trained SVM classifier\n",
    "    scaler: Fitted StandardScaler object\n",
    "    patient_data: Tuple of 8 medical measurements\n",
    "    \n",
    "    Returns:\n",
    "    Prediction result and risk assessment\n",
    "    \"\"\"\n",
    "    # Convert input to numpy array and reshape\n",
    "    input_array = np.asarray(patient_data).reshape(1, -1)\n",
    "    \n",
    "    # Standardize the input data using the same scaler\n",
    "    standardized_input = scaler.transform(input_array)\n",
    "    \n",
    "    # Make prediction\n",
    "    prediction = model.predict(standardized_input)[0]\n",
    "    confidence = model.decision_function(standardized_input)[0]\n",
    "    \n",
    "    # Interpret result\n",
    "    risk_status = \"Non-Diabetic\" if prediction == 0 else \"Diabetic\"\n",
    "    confidence_level = abs(confidence)\n",
    "    \n",
    "    return prediction, risk_status, confidence_level"
   ]
  },
  {
   "cell_type": "markdown",
   "id": "c44045dd",
   "metadata": {
    "papermill": {
     "duration": 0.005142,
     "end_time": "2025-08-25T11:47:22.276172",
     "exception": false,
     "start_time": "2025-08-25T11:47:22.271030",
     "status": "completed"
    },
    "tags": []
   },
   "source": [
    "## Test prediction system with sample patient data"
   ]
  },
  {
   "cell_type": "code",
   "execution_count": 17,
   "id": "2c3de57b",
   "metadata": {
    "execution": {
     "iopub.execute_input": "2025-08-25T11:47:22.288254Z",
     "iopub.status.busy": "2025-08-25T11:47:22.287759Z",
     "iopub.status.idle": "2025-08-25T11:47:22.297859Z",
     "shell.execute_reply": "2025-08-25T11:47:22.296801Z"
    },
    "papermill": {
     "duration": 0.018011,
     "end_time": "2025-08-25T11:47:22.299485",
     "exception": false,
     "start_time": "2025-08-25T11:47:22.281474",
     "status": "completed"
    },
    "tags": []
   },
   "outputs": [
    {
     "name": "stderr",
     "output_type": "stream",
     "text": [
      "c:\\ProgramData\\anaconda3\\Lib\\site-packages\\sklearn\\utils\\validation.py:2739: UserWarning: X does not have valid feature names, but StandardScaler was fitted with feature names\n",
      "  warnings.warn(\n"
     ]
    }
   ],
   "source": [
    "# Format: (Pregnancies, Glucose, BloodPressure, SkinThickness, Insulin, BMI, DiabetesPedigree, Age)\n",
    "sample_patient = (1, 89, 66, 23, 94, 28.1, 0.167, 21)\n",
    "\n",
    "prediction, risk_status, confidence = predict_diabetes_risk(classifier, scaler, sample_patient)"
   ]
  },
  {
   "cell_type": "code",
   "execution_count": 18,
   "id": "0ec0da4d",
   "metadata": {
    "execution": {
     "iopub.execute_input": "2025-08-25T11:47:22.311534Z",
     "iopub.status.busy": "2025-08-25T11:47:22.311147Z",
     "iopub.status.idle": "2025-08-25T11:47:22.318380Z",
     "shell.execute_reply": "2025-08-25T11:47:22.316883Z"
    },
    "papermill": {
     "duration": 0.015378,
     "end_time": "2025-08-25T11:47:22.320359",
     "exception": false,
     "start_time": "2025-08-25T11:47:22.304981",
     "status": "completed"
    },
    "tags": []
   },
   "outputs": [
    {
     "name": "stdout",
     "output_type": "stream",
     "text": [
      "\n",
      "Sample Patient Prediction:\n",
      "Input data: (1, 89, 66, 23, 94, 28.1, 0.167, 21)\n",
      "Prediction: 0 (Non-Diabetic)\n",
      "Decision confidence: 2.4876\n"
     ]
    }
   ],
   "source": [
    "print(f\"\\nSample Patient Prediction:\")\n",
    "print(f\"Input data: {sample_patient}\")\n",
    "print(f\"Prediction: {prediction} ({risk_status})\")\n",
    "print(f\"Decision confidence: {confidence:.4f}\")"
   ]
  },
  {
   "cell_type": "code",
   "execution_count": 19,
   "id": "90b19fcc",
   "metadata": {
    "execution": {
     "iopub.execute_input": "2025-08-25T11:47:22.333246Z",
     "iopub.status.busy": "2025-08-25T11:47:22.332212Z",
     "iopub.status.idle": "2025-08-25T11:47:22.339057Z",
     "shell.execute_reply": "2025-08-25T11:47:22.337814Z"
    },
    "papermill": {
     "duration": 0.015158,
     "end_time": "2025-08-25T11:47:22.341015",
     "exception": false,
     "start_time": "2025-08-25T11:47:22.325857",
     "status": "completed"
    },
    "tags": []
   },
   "outputs": [
    {
     "name": "stdout",
     "output_type": "stream",
     "text": [
      "Result: The patient is predicted to be non-diabetic\n"
     ]
    }
   ],
   "source": [
    "# Interpret the result\n",
    "if prediction == 0:\n",
    "    print(\"Result: The patient is predicted to be non-diabetic\")\n",
    "else:\n",
    "    print(\"Result: The patient is predicted to be diabetic\")"
   ]
  },
  {
   "cell_type": "markdown",
   "id": "c1061562",
   "metadata": {
    "papermill": {
     "duration": 0.005287,
     "end_time": "2025-08-25T11:47:22.352108",
     "exception": false,
     "start_time": "2025-08-25T11:47:22.346821",
     "status": "completed"
    },
    "tags": []
   },
   "source": [
    "## CONCLUSION\n",
    "* This project successfully demonstrates the application of Support Vector Machine algorithm for medical diagnosis prediction. The SVM model with data standardization achieved reliable performance in predicting diabetes risk based on medical diagnostic measurements.\n",
    "\n",
    "* The implementation highlights the importance of data preprocessing, particularly feature standardization, which is crucial for SVM algorithm performance. This approach has practical applications in healthcare systems, early disease detection, and preventive medicine.\n",
    "\n",
    "* The project validates that machine learning can effectively assist medical professionals in making informed decisions about patient health risks when applied to well-structured medical datasets."
   ]
  }
 ],
 "metadata": {
  "kaggle": {
   "accelerator": "none",
   "dataSources": [
    {
     "datasetId": 2527538,
     "sourceId": 4289678,
     "sourceType": "datasetVersion"
    }
   ],
   "dockerImageVersionId": 31089,
   "isGpuEnabled": false,
   "isInternetEnabled": true,
   "language": "python",
   "sourceType": "notebook"
  },
  "kernelspec": {
   "display_name": "base",
   "language": "python",
   "name": "python3"
  },
  "language_info": {
   "codemirror_mode": {
    "name": "ipython",
    "version": 3
   },
   "file_extension": ".py",
   "mimetype": "text/x-python",
   "name": "python",
   "nbconvert_exporter": "python",
   "pygments_lexer": "ipython3",
   "version": "3.13.5"
  },
  "papermill": {
   "default_parameters": {},
   "duration": 12.399852,
   "end_time": "2025-08-25T11:47:23.082657",
   "environment_variables": {},
   "exception": null,
   "input_path": "__notebook__.ipynb",
   "output_path": "__notebook__.ipynb",
   "parameters": {},
   "start_time": "2025-08-25T11:47:10.682805",
   "version": "2.6.0"
  }
 },
 "nbformat": 4,
 "nbformat_minor": 5
}
